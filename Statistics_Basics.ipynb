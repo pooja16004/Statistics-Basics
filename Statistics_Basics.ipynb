{
  "nbformat": 4,
  "nbformat_minor": 0,
  "metadata": {
    "colab": {
      "provenance": []
    },
    "kernelspec": {
      "name": "python3",
      "display_name": "Python 3"
    },
    "language_info": {
      "name": "python"
    }
  },
  "cells": [
    {
      "cell_type": "markdown",
      "source": [
        "#Statistics Basics Theory Questions"
      ],
      "metadata": {
        "id": "4gUFUfv9mwiu"
      }
    },
    {
      "cell_type": "markdown",
      "source": [
        "1- What is statistics, and why is it important ?\n",
        "- Statistics is the branch of mathematics that deals with collecting, analyzing, interpreting, presenting, and organizing data. It provides tools for making decisions based on data, especially in the presence of uncertainty.\n",
        "\n",
        "#Importance :-\n",
        "1. Informed Decision-Making:-\n",
        "Statistics helps individuals, businesses, and governments make data-driven decisions (e.g., market research, policy planning, risk assessment).\n",
        "\n",
        "2. Understanding Variability:-\n",
        "It helps us understand natural variability and uncertainty in processes or populations.\n",
        "\n",
        "3. Prediction and Forecasting:-\n",
        "Statistical models are used to forecast future trends (e.g., weather, sales, economic growth).\n",
        "\n",
        "4. Scientific Research:-\n",
        "It's essential for designing experiments, analyzing results, and drawing valid conclusions in scientific studies.\n",
        "\n",
        "5. Quality Control:-\n",
        "Industries use statistical methods to monitor and improve product quality."
      ],
      "metadata": {
        "id": "Uu9HpttbmwgF"
      }
    },
    {
      "cell_type": "markdown",
      "source": [
        "2- What are the two main types of statistics?\n",
        "# Descriptive Statistics –\n",
        "These summarize and organize data so it can be easily understood. Common tools include measures like mean, median, mode, standard deviation, and visualizations such as charts and graphs.\n",
        "\n",
        "# Inferential Statistics –\n",
        "These involve making predictions or inferences about a population based on a sample of data. This includes hypothesis testing, confidence intervals, regression analysis, and more."
      ],
      "metadata": {
        "id": "vWfz3lE_mwdY"
      }
    },
    {
      "cell_type": "markdown",
      "source": [
        "3- What are descriptive statistics ?\n",
        "- Descriptive statistics are methods for summarizing and organizing data in an informative way. They provide a simple overview of the characteristics of a dataset without making predictions or generalizations beyond the data."
      ],
      "metadata": {
        "id": "JuFct1YYmwaa"
      }
    },
    {
      "cell_type": "markdown",
      "source": [
        "4- What is inferential statistics ?\n",
        "- Inferential statistics is a branch of statistics that allows you to make predictions or generalizations about a population based on a sample of data from that population.\n",
        "\n",
        "    In simpler terms:\n",
        "\n",
        "    You collect data from a small group (sample).\n",
        "\n",
        "    Then, you use statistical methods to make conclusions about the larger group (population) from which the sample came."
      ],
      "metadata": {
        "id": "jYoW-rMomwXS"
      }
    },
    {
      "cell_type": "markdown",
      "source": [
        "5- What is sampling in statistics ?\n",
        "- In statistics, sampling is the process of selecting a subset of individuals or items from a larger population in order to estimate characteristics of the whole population."
      ],
      "metadata": {
        "id": "wJB-Ys6dmwUb"
      }
    },
    {
      "cell_type": "markdown",
      "source": [
        "6- What are the different types of sampling methods ?\n",
        "- Sampling methods are techniques used to select a subset of individuals or elements from a larger population to make inferences about the whole. Here are the main types of sampling methods, divided into two broad categories: probability and non-probability sampling.\n",
        "\n",
        "    Probability Sampling Methods\n",
        "\n",
        "    Each member of the population has a known, non-zero chance of being selected.\n",
        "\n",
        "    a. Simple Random Sampling Every member has an equal chance of being selected.\n",
        "\n",
        "    Example: Drawing names from a hat.\n",
        "\n",
        "    b. Systematic Sampling Select every kth individual from a list after a random start.\n",
        "\n",
        "    Example: Choosing every 10th customer entering a store.\n",
        "\n",
        "    c. Stratified Sampling Population is divided into subgroups (strata) based on a characteristic, and random samples are taken from each group.\n",
        "\n",
        "    Example: Sampling 50 men and 50 women from a population.\n",
        "\n",
        "    d. Cluster Sampling Population is divided into clusters (usually geographically), some clusters are randomly selected, and all or a sample of members from those clusters are surveyed.\n",
        "\n",
        "    Example: Surveying all households in 5 randomly chosen city blocks.\n",
        "\n",
        "    Non-Probability Sampling Methods\n",
        "    Not every member has a known or equal chance of being included.\n",
        "\n",
        "    a. Convenience Sampling Selects individuals who are easiest to access.\n",
        "\n",
        "    Example: Surveying people in a mall.\n",
        "\n",
        "    b. Judgmental/Purposive Sampling Researcher uses judgment to select individuals who are most useful or representative.\n",
        "\n",
        "    Example: Choosing experts in a field for a specialized study.\n",
        "\n",
        "    c. Snowball Sampling Existing study subjects recruit future subjects from among their acquaintances.\n",
        "\n",
        "    Common in hard-to-reach or hidden populations.\n",
        "\n",
        "    d. Quota Sampling Ensures certain characteristics are represented in the sample to a certain extent but selection within those quotas is non-random.\n",
        "\n",
        "    Example: Interviewing 100 people, ensuring 50 are under 30 and 50 are over 30, but choosing them conveniently."
      ],
      "metadata": {
        "id": "lLSN0YEemwRl"
      }
    },
    {
      "cell_type": "markdown",
      "source": [
        "7- What is the difference between random and non-random sampling ?\n",
        "\n",
        "#Random Sampling:\n",
        "\n",
        "    Definition: Every member of the population has an equal chance of being selected.\n",
        "\n",
        "    Purpose: To reduce bias and ensure the sample is representative of the population.\n",
        "\n",
        "    Examples:\n",
        "\n",
        "    Simple random sampling: Drawing names from a hat or using a random number generator.\n",
        "\n",
        "    Stratified random sampling: Dividing the population into groups (strata) and randomly sampling from each.\n",
        "\n",
        "    Advantage: Results are more generalizable to the whole population.\n",
        "\n",
        "    Disadvantage: Can be time-consuming and may require a complete list of the population.\n",
        "\n",
        "#Non-Random Sampling (Non-Probability Sampling):\n",
        "\n",
        "    Definition: Not all members have a known or equal chance of being selected.\n",
        "\n",
        "    Purpose: Often used when random sampling isn’t practical.\n",
        "\n",
        "    Examples:\n",
        "\n",
        "    Convenience sampling: Sampling people who are easiest to reach.\n",
        "\n",
        "    Judgmental or purposive sampling: Selecting people based on the researcher’s judgment.\n",
        "\n",
        "    Snowball sampling: Participants recruit others to participate.\n",
        "\n",
        "    Advantage: Easier and quicker to conduct.\n",
        "\n",
        "    Disadvantage: Higher risk of bias; results may not be generalizable."
      ],
      "metadata": {
        "id": "-1sMTcOwmwOc"
      }
    },
    {
      "cell_type": "markdown",
      "source": [
        "8- Define and give examples of qualitative and quantitative data.\n",
        "#Qualitative Data\n",
        "  Definition: Qualitative data describes qualities or characteristics. It is non-numerical and is often used to capture concepts, opinions, behaviors, or experiences.\n",
        "\n",
        "  Examples:\n",
        "\n",
        "  Colors of cars in a parking lot (e.g., red, blue, black).\n",
        "\n",
        "  Customer feedback or reviews (e.g., \"The service was excellent\").\n",
        "\n",
        "  Types of cuisine at a food festival (e.g., Italian, Chinese, Mexican).\n",
        "\n",
        "  Interview transcripts or open-ended survey responses.\n",
        "\n",
        "#Quantitative Data\n",
        "  Definition: Quantitative data represents quantities and is numerical in nature. It can be measured and analyzed statistically.\n",
        "\n",
        "  Examples:\n",
        "\n",
        "  Height of students in a class (e.g., 160 cm, 175 cm).\n",
        "\n",
        "  Number of books sold in a month (e.g., 500 books).\n",
        "\n",
        "  Temperature readings (e.g., 22°C, 30°C).\n",
        "\n",
        "  Test scores (e.g., 85, 92, 78)."
      ],
      "metadata": {
        "id": "u-CZBfObmwLD"
      }
    },
    {
      "cell_type": "markdown",
      "source": [
        "9- What are the different types of data in statistics ?\n",
        "#Qualitative (Categorical) Data\n",
        "These represent categories or labels and are non-numeric (though they may be coded with numbers for convenience).\n",
        "\n",
        "Nominal Data: Categories with no inherent order.\n",
        "\n",
        "Examples: Gender, hair color, marital status, nationality.\n",
        "\n",
        "Ordinal Data: Categories with a meaningful order but no consistent difference between values.\n",
        "\n",
        "Examples: Education level (high school, bachelor's, master's), satisfaction ratings (poor, fair, good, excellent).\n",
        "\n",
        "#Quantitative (Numerical) Data\n",
        "These represent measurable quantities and are numeric.\n",
        "\n",
        "Discrete Data: Countable values, usually integers.\n",
        "\n",
        "Examples: Number of children, number of cars, shoe size.\n",
        "\n",
        "Continuous Data: Can take any value within a range and are typically measured.\n",
        "\n",
        "Examples: Height, weight, temperature, time."
      ],
      "metadata": {
        "id": "FZRXyI-6mwH7"
      }
    },
    {
      "cell_type": "markdown",
      "source": [
        "10- Explain nominal, ordinal, interval, and ratio levels of measurement.\n",
        "# Nominal Level (Categorical)\n",
        "    Definition: Data is categorized without any order.\n",
        "\n",
        "    Characteristics:\n",
        "\n",
        "    Categories are names or labels.\n",
        "\n",
        "    No numeric meaning or inherent ranking.\n",
        "\n",
        "    Examples:\n",
        "\n",
        "    Gender (Male, Female, Other)\n",
        "\n",
        "    Colors (Red, Blue, Green)\n",
        "\n",
        "    Nationality (American, French, Chinese)\n",
        "\n",
        "# Ordinal Level\n",
        "    Definition: Data is categorized with a meaningful order, but differences between ranks are not uniform or measurable.\n",
        "\n",
        "    Characteristics:\n",
        "\n",
        "    Can be ranked or ordered.\n",
        "\n",
        "    Intervals between values are not necessarily equal.\n",
        "\n",
        "    Examples:\n",
        "\n",
        "    Education level (High school, Bachelor's, Master's, PhD)\n",
        "\n",
        "    Customer satisfaction (Poor, Fair, Good, Excellent)\n",
        "\n",
        "    Class rankings (1st, 2nd, 3rd)\n",
        "\n",
        "# Interval Level\n",
        "    Definition: Ordered data with equal intervals between values, but no true zero point.\n",
        "\n",
        "    Characteristics:\n",
        "\n",
        "    Allows for meaningful differences between values.\n",
        "\n",
        "    Ratios are not meaningful (e.g., 20°C is not “twice” as hot as 10°C).\n",
        "\n",
        "    Examples:\n",
        "\n",
        "    Temperature in Celsius or Fahrenheit\n",
        "\n",
        "    Dates on a calendar\n",
        "\n",
        "    IQ scores\n",
        "\n",
        "# Ratio Level\n",
        "    Definition: Data with all the characteristics of interval level, plus a true zero point.\n",
        "\n",
        "    Characteristics:\n",
        "\n",
        "    Order, equal intervals, and absolute zero exist.\n",
        "\n",
        "    Ratios are meaningful (e.g., 20kg is twice as heavy as 10kg).\n",
        "\n",
        "    Examples:\n",
        "\n",
        "    Weight\n",
        "\n",
        "    Height\n",
        "\n",
        "    Age\n",
        "\n",
        "    Income"
      ],
      "metadata": {
        "id": "Cr0HQUFeqQrd"
      }
    },
    {
      "cell_type": "markdown",
      "source": [
        "11- What is the measure of central tendency ?\n",
        "- A measure of central tendency is a statistical value that represents the center or typical value of a dataset. It gives you a single value that summarizes a set of data by identifying the central position within that set.\n",
        "The three main measures of central tendency are:\n",
        "\n",
        "#Mean:\n",
        "The arithmetic average of all the data points.\n",
        "\n",
        "Mean = Sum of all values/Number of values\n",
        "\n",
        "#Median:\n",
        "The middle value when the data is arranged in order. If there is an even number of values, it's the average of the two middle values.\n",
        "\n",
        "#Mode:\n",
        "The value(s) that occur most frequently in the dataset."
      ],
      "metadata": {
        "id": "TI0x4MrKqQoH"
      }
    },
    {
      "cell_type": "markdown",
      "source": [
        "12- Define mean, median, and mode.\n",
        "#Mean (also called the average):\n",
        "The sum of all values divided by the number of values. Mean = Sum of all values/Number of values\n",
        "\n",
        "#Median:\n",
        "The middle value in a list of numbers when they are arranged in order.\n",
        "\n",
        "If the number of values is odd, the median is the middle value.\n",
        "\n",
        "If it's even, the median is the average of the two middle values.\n",
        "\n",
        "#Mode:\n",
        "The value(s) that occur most frequently in a data set.\n",
        "\n",
        "A set can have one mode, more than one mode, or no mode (if all values occur equally)."
      ],
      "metadata": {
        "id": "qguE6G9QqQkm"
      }
    },
    {
      "cell_type": "markdown",
      "source": [
        "13- What is the significance of the measure of central tendency ?\n",
        "- The measure of central tendency is significant because it provides a single value that summarizes or represents the center point or typical value of a dataset. This helps in understanding and interpreting data by identifying where most values lie.\n",
        "There are three main measures:\n",
        "#Mean (Average) –\n",
        "Adds all values and divides by the number of values. It’s useful for normally distributed data but can be skewed by outliers.\n",
        "\n",
        "#Median –\n",
        "The middle value when data are ordered. It’s more robust than the mean in the presence of outliers or skewed data.\n",
        "\n",
        "#Mode –\n",
        "The value that appears most frequently. Useful for categorical data or identifying the most common value.\n",
        "\n",
        "#Significance:\n",
        "Summarizes large datasets:\n",
        "Makes complex data easier to understand.\n",
        "\n",
        "Helps in comparison:\n",
        "Useful for comparing different groups or datasets.\n",
        "\n",
        "Supports decision-making:\n",
        "Used in fields like economics, education, business, and health to guide policies or strategies.\n",
        "\n",
        "Basis for further analysis:\n",
        "Essential in calculating other statistics like variance or standard deviation."
      ],
      "metadata": {
        "id": "z_bcgq3gqQYA"
      }
    },
    {
      "cell_type": "markdown",
      "source": [
        "14- What is variance, and how is it calculated ?\n",
        "#What is Variance?\n",
        "Variance is a statistical measure that quantifies the spread or dispersion of data points in a dataset around the mean (average). In simpler terms, it tells you how far apart the individual data points are from the average value.\n",
        "\n",
        "#How is it Calculated?\n",
        "\n",
        "#1:- Calculate the Mean:\n",
        "Find the average of all the data points in the dataset.\n",
        "\n",
        "#2:- Calculate Deviations:\n",
        "For each data point, subtract the mean from the data point to find the deviation. This tells you how much each point differs from the average.\n",
        "\n",
        "#3:- Square the Deviations:\n",
        "Square each deviation to make them all positive. This also emphasizes larger deviations.\n",
        "\n",
        "#4:- Sum the Squared Deviations:\n",
        "Add up all the squared deviations.\n",
        "\n",
        "#5:- Divide:\n",
        "If you're calculating population variance (using the entire dataset), divide the sum of squared deviations by the total number of data points (N). If you're calculating sample variance (using a subset of the population), divide by the total number of data points in the sample minus 1 (N-1). This is to correct for a bias in estimating population variance using a sample."
      ],
      "metadata": {
        "id": "BkaLJIoKqQUX"
      }
    },
    {
      "cell_type": "markdown",
      "source": [
        "15- What is standard deviation, and why is it important ?\n",
        "- Standard deviation is a statistical measure that quantifies the amount of variation or dispersion of a set of data values. A low standard deviation indicates that the values tend to be close to the mean (also called the expected value) of the set, while a high standard deviation indicates that the values are spread out over a wider range.\n",
        "#Importance\n",
        "#1:- Understanding Data Spread:\n",
        "It helps us understand how much individual data points deviate from the average. A smaller standard deviation means the data is clustered closely around the mean, while a larger one indicates more variability.\n",
        "\n",
        "#2:- Comparing Datasets:\n",
        "You can use standard deviation to compare the variability of two or more datasets. For example, if you have the test scores of two classes, the class with a lower standard deviation has more consistent scores.\n",
        "\n",
        "#3:- Outlier Detection:\n",
        "Data points that are significantly far from the mean can be considered outliers. Standard deviation is used to identify these potentially unusual values.\n",
        "\n",
        "#4:-Quality Control:\n",
        "In industries, standard deviation is used for quality control. If a process has a large standard deviation, it might mean there are inconsistencies or problems that need to be addressed.\n",
        "\n",
        "#5 :- Normal Distribution:\n",
        "In a normal distribution (bell curve), about 68% of the data falls within one standard deviation of the mean, 95% within two standard deviations, and 99.7% within three standard deviations. This knowledge is crucial for many statistical analyses.\n",
        "\n",
        "#6:- Making Predictions:\n",
        "Standard deviation can be used in making predictions or estimates. For example, in finance, it can be used to calculate the volatility of a"
      ],
      "metadata": {
        "id": "TfC8PO8oqQQx"
      }
    },
    {
      "cell_type": "markdown",
      "source": [
        "16- Define and explain the term range in statistics.\n",
        "- In statistics, the range is the difference between the maximum and minimum values in a dataset. It's the simplest measure of dispersion, showing the spread of data from the lowest to the highest value.\n",
        "#Explanation:\n",
        "#1:- Calculation:\n",
        "To find the range, you subtract the minimum value from the maximum value in your dataset.\n",
        "\n",
        " Range = Maximum value - Minimum value\n",
        "#2:- Interpretation:\n",
        "A larger range indicates greater variability or spread in the data, while a smaller range suggests that the data points are clustered more closely together.\n",
        "\n",
        "#Limitations:\n",
        "The range is sensitive to outliers. Extreme values can significantly inflate the range, making it a less reliable measure of dispersion when outliers are present."
      ],
      "metadata": {
        "id": "aWo1yIl0qQM_"
      }
    },
    {
      "cell_type": "markdown",
      "source": [
        "17- What is the difference between variance and standard deviation ?\n",
        "#1 :- Variance\n",
        "#Definition:\n",
        "Variance is the average of the squared differences between each data point and the mean of the dataset.\n",
        "\n",
        "#Calculation:\n",
        "1 :- Calculate the mean of the dataset.\n",
        "\n",
        "2:- Subtract the mean from each data point to get the deviation.\n",
        "\n",
        "3 :- Square each deviation.\n",
        "\n",
        "4 :- Sum the squared deviations.\n",
        "\n",
        "5:- Divide the sum of squared deviations by the number of data points (for population variance) or by the number of data points minus 1 (for sample variance).\n",
        "\n",
        "#Interpretation:\n",
        "Variance represents the spread or dispersion of the data. A higher variance indicates that the data points are more spread out from the mean, while a lower variance indicates that the data points are more clustered around the mean.\n",
        "\n",
        "#Units:\n",
        "Variance is expressed in squared units of the original data. For example, if the original data is in meters, the variance will be in meters squared.\n",
        "\n",
        "#2:- Standard Deviation\n",
        "Definition:\n",
        "Standard deviation is the square root of the variance.\n",
        "\n",
        "#Calculation:\n",
        "Take the square root of the variance.\n",
        "\n",
        "#Interpretation:\n",
        "Standard deviation is a more intuitive measure of data spread than variance because it is expressed in the same units as the original data. It represents the average distance of each data point from the mean.\n",
        "\n",
        "#Units:\n",
        "Standard deviation is expressed in the same units as the original data. For example, if the original data is in meters, the standard deviation will be in meters."
      ],
      "metadata": {
        "id": "GlSpZfNpqQJm"
      }
    },
    {
      "cell_type": "markdown",
      "source": [
        "18- What is skewness in a dataset ?\n",
        "- Skewness is a measure of the asymmetry of the probability distribution of a real-valued random variable about its mean. In simpler terms, it describes the shape of the distribution and whether it's leaning to one side or the other."
      ],
      "metadata": {
        "id": "kLxaKoLaqQF4"
      }
    },
    {
      "cell_type": "markdown",
      "source": [
        "19- What does it mean if a dataset is positively or negatively skewed ?\n",
        "- Skewness is a measure of the asymmetry of a data distribution. A perfectly symmetrical distribution (like the normal distribution) has zero skewness.\n",
        "Positively Skewed (Right Skewed)\n",
        "#1:- Shape:\n",
        "The distribution has a longer tail on the right side.\n",
        "\n",
        "#2:- Meaning:\n",
        "Most of the data points are clustered towards the left side of the distribution, with a few larger values extending out to the right.\n",
        "\n",
        "#3:- Interpretation:\n",
        "The mean is typically greater than the median, which is greater than the mode.\n",
        "\n",
        "#4:- Example:\n",
        "Income distribution – often, there are many people with lower incomes and a smaller number of individuals with very high incomes, creating a right-skewed distribution.\n",
        "\n",
        "#Negatively Skewed (Left Skewed)\n",
        "#1:-Shape:\n",
        "The distribution has a longer tail on the left side.\n",
        "\n",
        "#2:-Meaning:\n",
        "Most of the data points are clustered toward the right side of the distribution, with a few smaller values extending out to the left.\n",
        "\n",
        "#3:- Interpretation:\n",
        "The mean is typically less than the median, which is less than the mode.\n",
        "\n",
        "#4:- Example:\n",
        "Exam scores where most students score high, but a few students score very low, causing a left-skewed distribution."
      ],
      "metadata": {
        "id": "1DLAvOCsmwEt"
      }
    },
    {
      "cell_type": "markdown",
      "source": [
        "20- Define and explain kurtosis.\n",
        "- Kurtosis is a statistical measure that describes the shape of a probability distribution's tails in relation to its overall shape. It essentially tells you how much of the data is concentrated in the tails (extreme values) compared to the center of the distribution.\n",
        "#Explanation:\n",
        "#1:- High Kurtosis (Leptokurtic):\n",
        "A distribution with high kurtosis has heavy tails and a sharp peak. This means there are more extreme values (outliers) and the data is concentrated more in the center and tails.\n",
        "\n",
        "#2:- Low Kurtosis (Platykurtic):\n",
        "A distribution with low kurtosis has light tails and a flatter peak. This means there are fewer extreme values and the data is more evenly spread out.\n",
        "\n",
        "#3:- Normal Kurtosis (Mesokurtic):\n",
        "A normal distribution has a kurtosis value of 3 and serves as a baseline for comparison."
      ],
      "metadata": {
        "id": "aKIWrLojmwBa"
      }
    },
    {
      "cell_type": "markdown",
      "source": [
        "21- What is the purpose of covariance ?\n",
        "#Purpose of Covariance\n",
        "Covariance is used to measure the directional relationship between two variables. In other words, it tells you how two variables change together.\n",
        "\n",
        "#1:- Direction of Relationship:\n",
        "Positive Covariance: Indicates that the variables tend to move in the same direction. When one variable increases, the other tends to increase as well. And when one decreases, the other tends to decrease. Negative Covariance: Indicates that the variables tend to move in opposite directions. When one variable increases, the other tends to decrease, and vice versa. Zero Covariance: Suggests that there is no linear relationship between the variables. However, it's important to note that this doesn't necessarily mean there's no relationship at all, just that it's not a linear one.\n",
        "\n",
        "#2:- Strength of Relationship:\n",
        "While the sign of the covariance indicates the direction of the relationship, the magnitude of the covariance value can give you a sense of the strength of the relationship. However, the magnitude itself is not always easy to interpret. This is because it's affected by the scales of the variables. For a more standardized measure of the strength of the relationship, you would use the correlation coefficient, which is calculated using covariance."
      ],
      "metadata": {
        "id": "hDsBFhD-xSC-"
      }
    },
    {
      "cell_type": "markdown",
      "source": [
        "22- What does correlation measure in statistics ?\n",
        "- Correlation in statistics measures the strength and direction of the linear relationship between two variables.\n",
        "In simpler terms:\n",
        "It tells you how two variables tend to change together. If one variable increases, does the other tend to increase as well (positive correlation), or does it tend to decrease (negative correlation), or is there no clear pattern (no correlation)?\n",
        "\n",
        "#Key aspects of correlation:\n",
        "#1:- Strength:\n",
        "How closely the two variables move together. A stronger correlation means the relationship is more predictable. Correlation is typically measured on a scale from -1 to +1.\n",
        "\n",
        "#2:-Direction:\n",
        "Whether the variables move in the same direction (positive correlation) or opposite directions (negative correlation).\n",
        "\n",
        "Positive correlation: As one variable increases, the other tends to increase.\n",
        "\n",
        "Negative correlation: As one variable increases, the other tends to decrease.\n",
        "\n",
        "Zero correlation: There's no clear linear relationship between the variables."
      ],
      "metadata": {
        "id": "uwevHrJXxR-Z"
      }
    },
    {
      "cell_type": "markdown",
      "source": [
        "23- What is the difference between covariance and correlation ?\n",
        "#Covariance\n",
        "#1. Definition:\n",
        "Covariance measures the directional relationship between two variables. It indicates whether the variables tend to move together (positive covariance), move in opposite directions (negative covariance), or have no linear relationship (zero covariance).\n",
        "\n",
        "#2. Calculation:\n",
        "It's calculated by analyzing the deviations of each variable from their respective means.\n",
        "\n",
        "#3. Interpretation:\n",
        "1:- Positive covariance: Variables tend to increase or decrease together.\n",
        "\n",
        "2:- Negative covariance: One variable tends to increase while the other decreases.\n",
        "\n",
        "3:-Zero covariance: There's no linear relationship, but there could be a non-linear one.\n",
        "#4.Limitations:\n",
        "1.The magnitude of covariance is not standardized and is affected by the scales of the variables, making it difficult to compare covariances across different datasets.\n",
        "\n",
        "2.It only measures linear relationships and may not capture non-linear associations.\n",
        "#Correlation\n",
        "#1:- Definition:\n",
        "Correlation is a standardized measure of the relationship between two variables. It ranges from -1 to +1, indicating the strength and direction of the linear relationship.\n",
        "\n",
        "#2:- calculation:\n",
        "Calculated using the formula:\n",
        "\n",
        "# Corr(X, Y) = Cov(X, Y) / (σX * σY)\n",
        "where:\n",
        "\n",
        "Cov(X, Y) is the covariance between X and Y. σX and σY are the standard deviations of X and Y.\n",
        "\n",
        "#Interpretation:\n",
        "+1: Perfect positive correlation (variables move together in the same direction). -1: Perfect negative correlation (variables move in opposite directions). 0: No linear correlation (no relationship or a non-linear relationship). Values between -1 and +1: Indicate the strength and direction of the linear relationship.\n",
        "\n",
        "#Advantages over Covariance:\n",
        "Standardized: Allows for comparison between different datasets. Easier to interpret: The magnitude directly represents the strength of the relationship."
      ],
      "metadata": {
        "id": "JPPauT-1xR6u"
      }
    },
    {
      "cell_type": "markdown",
      "source": [
        "24- What are some real-world applications of statistics?\n",
        "#1:- Business and Finance:\n",
        "Market Research: Companies use statistics to understand customer preferences, market trends, and competitor analysis. Risk Assessment: Financial institutions use statistical models to assess and manage risks associated with loans, investments, and insurance. Fraud Detection: Statistical methods are used to identify fraudulent transactions in banking and finance.\n",
        "\n",
        "#2:- Healthcare:\n",
        "Drug Development: Pharmaceutical companies rely on statistical analysis to design clinical trials, analyze data, and determine the effectiveness and safety of new drugs. Disease Surveillance: Public health organizations track and monitor the spread of diseases using statistical models. Medical Diagnosis: Statistical methods can be used to develop diagnostic tools and predict the likelihood of certain medical conditions.\n",
        "\n",
        "#3:- Sports:\n",
        "Player Performance Analysis: Statistics are used to evaluate player performance, identify strengths and weaknesses, and make strategic decisions in sports. Predicting Outcomes: Statistical models are used to predict the outcome of games and tournaments. Scouting and Recruitment: Statistics are used in scouting and recruitment to identify promising players based on their performance data.\n",
        "\n",
        "#4:- Social Sciences:\n",
        "Surveys and Polling: Statistics is used to design and analyze surveys and polls to understand public opinion and social trends. Crime Analysis: Law enforcement agencies use statistical methods to identify crime patterns and predict future crime hotspots. Social Research: Statistical analysis is used in research studies to understand social phenomena, relationships between variables, and impacts of interventions."
      ],
      "metadata": {
        "id": "K9mcwo26xR1w"
      }
    },
    {
      "cell_type": "markdown",
      "source": [
        "#***Statistics Basics Practical Question ***"
      ],
      "metadata": {
        "id": "av18DMwexRxO"
      }
    },
    {
      "cell_type": "code",
      "execution_count": 1,
      "metadata": {
        "colab": {
          "base_uri": "https://localhost:8080/"
        },
        "id": "WfZnwDlvl7FR",
        "outputId": "fb2f889c-65db-4573-a276-001293ee4bec"
      },
      "outputs": [
        {
          "output_type": "stream",
          "name": "stdout",
          "text": [
            "Mean: 3.0\n",
            "Mean: 3.0\n"
          ]
        }
      ],
      "source": [
        "#Q.1  How do you calculate the mean, median, and mode of a dataset?\n",
        "\n",
        "import numpy as np\n",
        "\n",
        "# Mean:\n",
        "\n",
        "data = [1, 2, 3, 4, 5]  # Your dataset\n",
        "\n",
        "# Using NumPy\n",
        "mean = np.mean(data)\n",
        "print(f\"Mean: {mean}\")\n",
        "\n",
        "# Using built-in functions\n",
        "mean = sum(data) / len(data)\n",
        "print(f\"Mean: {mean}\")"
      ]
    },
    {
      "cell_type": "code",
      "source": [
        "# median\n",
        "import numpy as np\n",
        "\n",
        "data = [1, 2, 3, 4, 5]  # Your dataset\n",
        "\n",
        "# Using NumPy\n",
        "median = np.median(data)\n",
        "print(f\"median {median}\")\n"
      ],
      "metadata": {
        "colab": {
          "base_uri": "https://localhost:8080/"
        },
        "id": "ESsR-YXrzLb3",
        "outputId": "9b0cc74a-19b6-4375-995e-2fe20d093bb5"
      },
      "execution_count": 4,
      "outputs": [
        {
          "output_type": "stream",
          "name": "stdout",
          "text": [
            "median 3.0\n"
          ]
        }
      ]
    },
    {
      "cell_type": "code",
      "source": [
        "#mode\n",
        "from scipy import stats\n",
        "\n",
        "data = [1, 2, 3, 3, 4, 5]  # Your dataset\n",
        "\n",
        "# Using SciPy\n",
        "mode = stats.mode(data)\n",
        "\n",
        "# Check if mode.mode is an array before accessing with an index\n",
        "if isinstance(mode.mode, np.ndarray) and mode.mode.size > 0:\n",
        "    print(f\"Mode: {mode.mode[0]}\")  # Access the mode value if it's an array\n",
        "else:\n",
        "    print(f\"Mode: {mode.mode}\")  # Print the mode value directly if it's a scalar\n"
      ],
      "metadata": {
        "colab": {
          "base_uri": "https://localhost:8080/"
        },
        "id": "VlizlQdpzLWz",
        "outputId": "b119e532-4935-4773-ed11-b9c978d27f14"
      },
      "execution_count": 6,
      "outputs": [
        {
          "output_type": "stream",
          "name": "stdout",
          "text": [
            "Mode: 3\n"
          ]
        }
      ]
    },
    {
      "cell_type": "code",
      "source": [
        "#Q.2- Write a Python program to compute the variance and standard deviation of a dataset?\n",
        "\n",
        "import numpy as np\n",
        "\n",
        "#dataset\n",
        "data = [1, 2, 3, 4, 5]\n",
        "\n",
        "#using numpy to calculate variance\n",
        "variance = np.var(data)\n",
        "print(f\"Variance : {variance}\")\n",
        "\n",
        "#using numpy to calculate standard deviation\n",
        "std = np.std(data)\n",
        "print(f\"Standard deviation : {std}\")"
      ],
      "metadata": {
        "colab": {
          "base_uri": "https://localhost:8080/"
        },
        "id": "QBQNKsHozLRX",
        "outputId": "2deb8a81-aa97-4074-f677-05edff05197c"
      },
      "execution_count": 9,
      "outputs": [
        {
          "output_type": "stream",
          "name": "stdout",
          "text": [
            "Variance : 2.0\n",
            "Standard deviation : 1.4142135623730951\n"
          ]
        }
      ]
    },
    {
      "cell_type": "code",
      "source": [
        "#Q.3- Create a dataset and classify it into nominal, ordinal, interval, and ratio types.\n",
        "\n",
        "import pandas as pd\n",
        "\n",
        "# Create a sample dataset\n",
        "data = {\n",
        "    'Gender': ['Male', 'Female', 'Male', 'Female', 'Male'],\n",
        "    'Education Level': ['High School', 'Bachelor\\'s', 'Master\\'s', 'PhD', 'Bachelor\\'s'],\n",
        "    'Temperature (Celsius)': [25, 28, 22, 20, 26],\n",
        "    'Weight (kg)': [70, 65, 80, 55, 75],\n",
        "    'Income (USD)': [50000, 60000, 75000, 100000, 65000]\n",
        "}\n",
        "\n",
        "df = pd.DataFrame(data)\n",
        "\n",
        "# Classification of variables:\n",
        "# Nominal: Gender\n",
        "# Ordinal: Education Level\n",
        "# Interval: Temperature (Celsius)\n",
        "# Ratio: Weight (kg), Income (USD)\n",
        "\n",
        "print(df)"
      ],
      "metadata": {
        "colab": {
          "base_uri": "https://localhost:8080/"
        },
        "id": "d-FGhQJYzLMZ",
        "outputId": "ede58fea-57b2-412b-a047-27f70c4b87b9"
      },
      "execution_count": 10,
      "outputs": [
        {
          "output_type": "stream",
          "name": "stdout",
          "text": [
            "   Gender Education Level  Temperature (Celsius)  Weight (kg)  Income (USD)\n",
            "0    Male     High School                     25           70         50000\n",
            "1  Female      Bachelor's                     28           65         60000\n",
            "2    Male        Master's                     22           80         75000\n",
            "3  Female             PhD                     20           55        100000\n",
            "4    Male      Bachelor's                     26           75         65000\n"
          ]
        }
      ]
    },
    {
      "cell_type": "code",
      "source": [
        "#Q.4 Implement sampling techniques like random sampling and stratified sampling.\n",
        "\n",
        "# Random sampling\n",
        "import numpy as np\n",
        "\n",
        "# Your population data (e.g., a list of values)\n",
        "population = np.arange(1, 101)  # Numbers from 1 to 100\n",
        "\n",
        "# Sample size\n",
        "sample_size = 10\n",
        "\n",
        "# Random sampling with replacement\n",
        "random_sample = np.random.choice(population, size=sample_size, replace=True)\n",
        "\n",
        "# Random sampling without replacement\n",
        "random_sample_without_replacement = np.random.choice(population, size=sample_size, replace=False)\n",
        "\n",
        "print(\"Random Sample with Replacement:\", random_sample)\n",
        "print(\"Random Sample without Replacement:\", random_sample_without_replacement)"
      ],
      "metadata": {
        "colab": {
          "base_uri": "https://localhost:8080/"
        },
        "id": "Cj6HgkhmzLHx",
        "outputId": "ee0f11d5-2e3f-4901-9285-f077eec55858"
      },
      "execution_count": 2,
      "outputs": [
        {
          "output_type": "stream",
          "name": "stdout",
          "text": [
            "Random Sample with Replacement: [ 56 100  66   5  71  28  77  41  85  82]\n",
            "Random Sample without Replacement: [81 52 33 30 63 84 57 13 69 27]\n"
          ]
        }
      ]
    },
    {
      "cell_type": "code",
      "source": [
        "# Stratified Sampling\n",
        "\n",
        "import pandas as pd\n",
        "from sklearn.model_selection import train_test_split\n",
        "\n",
        "# Your dataset (e.g., a Pandas DataFrame)\n",
        "data = pd.DataFrame({'category': ['A', 'B', 'C', 'A', 'B', 'C', 'A', 'B', 'C', 'A'],\n",
        "                   'value': [10, 20, 30, 15, 25, 35, 12, 22, 32, 18]})\n",
        "\n",
        "# Stratify by 'category' column\n",
        "strata = data['category']\n",
        "\n",
        "# Split the data into training and testing sets (e.g., 80% train, 20% test)\n",
        "train_data, test_data = train_test_split(data, test_size=0.3, stratify=strata, random_state=42)\n",
        "\n",
        "print(\"Training Data:\\n\", train_data)\n",
        "print(\"\\nTesting Data:\\n\", test_data)"
      ],
      "metadata": {
        "colab": {
          "base_uri": "https://localhost:8080/"
        },
        "id": "iThw7HkMzLCU",
        "outputId": "c18aca53-98c6-4b47-c2f9-29b224dd1b67"
      },
      "execution_count": 3,
      "outputs": [
        {
          "output_type": "stream",
          "name": "stdout",
          "text": [
            "Training Data:\n",
            "   category  value\n",
            "5        C     35\n",
            "3        A     15\n",
            "1        B     20\n",
            "4        B     25\n",
            "0        A     10\n",
            "9        A     18\n",
            "8        C     32\n",
            "\n",
            "Testing Data:\n",
            "   category  value\n",
            "2        C     30\n",
            "7        B     22\n",
            "6        A     12\n"
          ]
        }
      ]
    },
    {
      "cell_type": "code",
      "source": [
        "#Q-5 Write a Python function to calculate the range of a dataset?\n",
        "\n",
        "def calculate_range(data):\n",
        "    \"\"\"\n",
        "    Calculate the range of a dataset.\n",
        "    Range = Maximum - Minimum\n",
        "    \"\"\"\n",
        "    if len(data) == 0:\n",
        "        return None  # Handle empty dataset\n",
        "\n",
        "    data_range = max(data) - min(data)\n",
        "    return data_range\n",
        "\n",
        "# Example usage\n",
        "dataset = [10, 25, 5, 40, 15]\n",
        "print(\"Dataset:\", dataset)\n",
        "print(\"Range:\", calculate_range(dataset))\n"
      ],
      "metadata": {
        "colab": {
          "base_uri": "https://localhost:8080/"
        },
        "id": "7ggJ2QmMzK9M",
        "outputId": "da9a44f1-1db5-4585-9aee-f88f79f5f440"
      },
      "execution_count": 4,
      "outputs": [
        {
          "output_type": "stream",
          "name": "stdout",
          "text": [
            "Dataset: [10, 25, 5, 40, 15]\n",
            "Range: 35\n"
          ]
        }
      ]
    },
    {
      "cell_type": "code",
      "source": [
        "#Q.6 Create a dataset and plot its histogram to visualize skewness?\n",
        "\n",
        "import numpy as np\n",
        "import matplotlib.pyplot as plt\n",
        "from scipy.stats import skew\n",
        "\n",
        "# Create a positively skewed dataset (e.g., exponential distribution)\n",
        "data = np.random.gamma(2, 2, 1500)  # Gamma distribution with shape=2, scale=2, size=1000\n",
        "# Calculate skewness\n",
        "data_skewness = skew(data)\n",
        "\n",
        "# Plot histogram\n",
        "plt.figure(figsize=(8, 6))\n",
        "plt.hist(data, bins=30, color='skyblue', edgecolor='black')\n",
        "plt.title(f'Histogram of Dataset (Skewness = {data_skewness:.2f})')\n",
        "plt.xlabel('Value')\n",
        "plt.ylabel('Frequency')\n",
        "plt.grid(True)\n",
        "plt.show()\n"
      ],
      "metadata": {
        "colab": {
          "base_uri": "https://localhost:8080/",
          "height": 564
        },
        "id": "3ptmbXzIzK5C",
        "outputId": "ce8b106f-5e5a-47c9-efc5-1ffdf142beb2"
      },
      "execution_count": 16,
      "outputs": [
        {
          "output_type": "display_data",
          "data": {
            "text/plain": [
              "<Figure size 800x600 with 1 Axes>"
            ],
            "image/png": "[encoded data removed]"
          },
          "metadata": {}
        }
      ]
    },
    {
      "cell_type": "code",
      "source": [
        "#Q.7 Calculate skewness and kurtosis of a dataset using Python libraries.\n",
        "\n",
        "import numpy as np\n",
        "import pandas as pd\n",
        "from scipy.stats import skew, kurtosis\n",
        "\n",
        "# Create a dataset\n",
        "data = np.random.normal(loc=0, scale=1, size=1000)  # Normally distributed\n",
        "\n",
        "# Calculate skewness and kurtosis using scipy\n",
        "skewness_value = skew(data)\n",
        "kurtosis_value = kurtosis(data)  # By default, Fisher’s definition (normal = 0)\n",
        "\n",
        "# Using pandas (optional alternative)\n",
        "data_series = pd.Series(data)\n",
        "skew_pandas = data_series.skew()\n",
        "kurtosis_pandas = data_series.kurt()  # Fisher's definition (normal = 0)\n",
        "\n",
        "# Print results\n",
        "print(\"Using scipy:\")\n",
        "print(f\"Skewness: {skewness_value:.4f}\")\n",
        "print(f\"Kurtosis: {kurtosis_value:.4f}\")\n",
        "\n",
        "print(\"\\nUsing pandas:\")\n",
        "print(f\"Skewness: {skew_pandas:.4f}\")\n",
        "print(f\"Kurtosis: {kurtosis_pandas:.4f}\")\n"
      ],
      "metadata": {
        "colab": {
          "base_uri": "https://localhost:8080/"
        },
        "id": "YB51UxqbzK0F",
        "outputId": "68413c19-b6fc-40ca-bb52-2d16e9b1d86d"
      },
      "execution_count": 17,
      "outputs": [
        {
          "output_type": "stream",
          "name": "stdout",
          "text": [
            "Using scipy:\n",
            "Skewness: 0.0385\n",
            "Kurtosis: 0.3429\n",
            "\n",
            "Using pandas:\n",
            "Skewness: 0.0385\n",
            "Kurtosis: 0.3507\n"
          ]
        }
      ]
    },
    {
      "cell_type": "code",
      "source": [
        "#Q.8 Generate a dataset and demonstrate positive and negative skewness.\n",
        "\n",
        "import numpy as np\n",
        "import matplotlib.pyplot as plt\n",
        "from scipy.stats import skew\n",
        "\n",
        "# Generate a positively skewed dataset (e.g., exponential)\n",
        "positive_skewed = np.random.exponential(scale=2.0, size=1000)\n",
        "\n",
        "# Generate a negatively skewed dataset (e.g., left-skewed using a transformation)\n",
        "negative_skewed = -1 * np.random.exponential(scale=2.0, size=1000)\n",
        "\n",
        "# Calculate skewness\n",
        "pos_skew_value = skew(positive_skewed)\n",
        "neg_skew_value = skew(negative_skewed)\n",
        "\n",
        "# Plot histograms\n",
        "fig, axes = plt.subplots(1, 2, figsize=(12, 5))\n",
        "\n",
        "# Positive skew\n",
        "axes[0].hist(positive_skewed, bins=30, color='lightcoral', edgecolor='black')\n",
        "axes[0].set_title(f'Positive Skew (Skewness = {pos_skew_value:.2f})')\n",
        "axes[0].set_xlabel('Value')\n",
        "axes[0].set_ylabel('Frequency')\n",
        "\n",
        "# Negative skew\n",
        "axes[1].hist(negative_skewed, bins=30, color='lightblue', edgecolor='black')\n",
        "axes[1].set_title(f'Negative Skew (Skewness = {neg_skew_value:.2f})')\n",
        "axes[1].set_xlabel('Value')\n",
        "axes[1].set_ylabel('Frequency')\n",
        "\n",
        "plt.tight_layout()\n",
        "plt.show()\n"
      ],
      "metadata": {
        "colab": {
          "base_uri": "https://localhost:8080/",
          "height": 507
        },
        "id": "BAUsOoFeLKRk",
        "outputId": "fe69b49b-6928-4fbf-b8f3-d3868d17c8f4"
      },
      "execution_count": 18,
      "outputs": [
        {
          "output_type": "display_data",
          "data": {
            "text/plain": [
              "<Figure size 1200x500 with 2 Axes>"
            ],
            "image/png": "[encoded data removed]"
          },
          "metadata": {}
        }
      ]
    },
    {
      "cell_type": "code",
      "source": [
        "#Q.9 Write a Python script to calculate covariance between two datasets.\n",
        "\n",
        "import numpy as np\n",
        "\n",
        "# Sample datasets\n",
        "x = np.array([2, 4, 6, 8, 10])\n",
        "y = np.array([1, 3, 2, 5, 7])\n",
        "\n",
        "# Method 1: Manual calculation\n",
        "def calculate_covariance(x, y):\n",
        "    if len(x) != len(y):\n",
        "        raise ValueError(\"Datasets must be the same length.\")\n",
        "\n",
        "    x_mean = np.mean(x)\n",
        "    y_mean = np.mean(y)\n",
        "\n",
        "    covariance = np.sum((x - x_mean) * (y - y_mean)) / (len(x) - 1)\n",
        "    return covariance\n",
        "\n",
        "# Method 2: Using NumPy\n",
        "cov_matrix = np.cov(x, y)  # Returns a 2x2 matrix\n",
        "\n",
        "# Results\n",
        "print(\"Manual Covariance:\", calculate_covariance(x, y))\n",
        "print(\"NumPy Covariance Matrix:\\n\", cov_matrix)\n",
        "print(\"Covariance from NumPy:\", cov_matrix[0, 1])  # Or cov_matrix[1, 0]\n"
      ],
      "metadata": {
        "colab": {
          "base_uri": "https://localhost:8080/"
        },
        "id": "98_0FywHLk3E",
        "outputId": "640bb2c8-d4a1-4645-f221-a2abdda44497"
      },
      "execution_count": 19,
      "outputs": [
        {
          "output_type": "stream",
          "name": "stdout",
          "text": [
            "Manual Covariance: 7.0\n",
            "NumPy Covariance Matrix:\n",
            " [[10.   7. ]\n",
            " [ 7.   5.8]]\n",
            "Covariance from NumPy: 7.0\n"
          ]
        }
      ]
    },
    {
      "cell_type": "code",
      "source": [
        "#Q.10 Write a Python script to calculate the correlation coefficient between two datasets.\n",
        "\n",
        "import numpy as np\n",
        "\n",
        "# Example datasets\n",
        "x = np.array([1, 2, 3, 4, 5])\n",
        "y = np.array([2, 4, 5, 4, 5])\n",
        "\n",
        "# Method 1: Manual calculation\n",
        "def correlation_coefficient(x, y):\n",
        "    if len(x) != len(y):\n",
        "        raise ValueError(\"Datasets must be the same length.\")\n",
        "\n",
        "    mean_x = np.mean(x)\n",
        "    mean_y = np.mean(y)\n",
        "\n",
        "    numerator = np.sum((x - mean_x) * (y - mean_y))\n",
        "    denominator = np.sqrt(np.sum((x - mean_x)**2) * np.sum((y - mean_y)**2))\n",
        "\n",
        "    return numerator / denominator\n",
        "\n",
        "# Method 2: Using NumPy\n",
        "corr_matrix = np.corrcoef(x, y)\n",
        "numpy_corr = corr_matrix[0, 1]\n",
        "\n",
        "# Output\n",
        "print(\"Manual Correlation Coefficient:\", correlation_coefficient(x, y))\n",
        "print(\"NumPy Correlation Coefficient:\", numpy_corr)\n"
      ],
      "metadata": {
        "colab": {
          "base_uri": "https://localhost:8080/"
        },
        "id": "N--KXRkxL1iC",
        "outputId": "af22a2b8-9c86-4ff3-da79-3070bdf3d809"
      },
      "execution_count": 20,
      "outputs": [
        {
          "output_type": "stream",
          "name": "stdout",
          "text": [
            "Manual Correlation Coefficient: 0.7745966692414834\n",
            "NumPy Correlation Coefficient: 0.7745966692414834\n"
          ]
        }
      ]
    },
    {
      "cell_type": "code",
      "source": [
        "#Q.11 Create a scatter plot to visualize the relationship between two variables.\n",
        "\n",
        "import numpy as np\n",
        "import matplotlib.pyplot as plt\n",
        "\n",
        "# Sample datasets\n",
        "x = np.random.rand(50)\n",
        "y = np.random.rand(50)\n",
        "\n",
        "# Create scatter plot\n",
        "plt.figure(figsize=(6, 4))\n",
        "plt.scatter(x, y, color='blue', edgecolor='black')\n",
        "\n",
        "# Add titles and labels\n",
        "plt.title('Scatter Plot of X vs Y')\n",
        "plt.xlabel('X values')\n",
        "plt.ylabel('Y values')\n",
        "plt.grid(True)\n",
        "plt.tight_layout()\n",
        "plt.show()\n"
      ],
      "metadata": {
        "colab": {
          "base_uri": "https://localhost:8080/",
          "height": 407
        },
        "id": "CvarUrc_Mj6G",
        "outputId": "87508746-b972-4caa-cdb4-2e2c709ff266"
      },
      "execution_count": 22,
      "outputs": [
        {
          "output_type": "display_data",
          "data": {
            "text/plain": [
              "<Figure size 600x400 with 1 Axes>"
            ],
            "image/png": "[encoded data removed]"
          },
          "metadata": {}
        }
      ]
    },
    {
      "cell_type": "code",
      "source": [
        "#Q.12 Implement and compare simple random sampling and systematic sampling.\n",
        "\n",
        "import numpy as np\n",
        "\n",
        "# Your population data (e.g., a list of values)\n",
        "population = np.arange(1, 101)  # Numbers from 1 to 100\n",
        "\n",
        "# Sample size\n",
        "sample_size = 10\n",
        "\n",
        "# Random sampling with replacement\n",
        "random_sample = np.random.choice(population, size=sample_size, replace=True)\n",
        "\n",
        "# Random sampling without replacement\n",
        "random_sample_without_replacement = np.random.choice(population, size=sample_size, replace=False)\n",
        "\n",
        "print(\"Random Sample with Replacement:\", random_sample)\n",
        "print(\"Random Sample without Replacement:\", random_sample_without_replacement)"
      ],
      "metadata": {
        "colab": {
          "base_uri": "https://localhost:8080/"
        },
        "id": "DOcmaxwuNqtE",
        "outputId": "79fb1808-a712-4298-d60d-1a56041e4de2"
      },
      "execution_count": 24,
      "outputs": [
        {
          "output_type": "stream",
          "name": "stdout",
          "text": [
            "Random Sample with Replacement: [99  6 44 69 91 96 76 41  7 49]\n",
            "Random Sample without Replacement: [52 81 12 29 15 73 21 92 89 76]\n"
          ]
        }
      ]
    },
    {
      "cell_type": "code",
      "source": [
        "# Systematic Sampling\n",
        "import numpy as np\n",
        "\n",
        "# Your population data\n",
        "population = np.arange(1, 101)\n",
        "\n",
        "# Sample size\n",
        "sample_size = 10\n",
        "\n",
        "# Calculate the interval (k)\n",
        "interval = len(population) // sample_size\n",
        "\n",
        "# Generate a random start point within the interval\n",
        "start_point = np.random.randint(1, interval + 1)\n",
        "\n",
        "# Select elements at regular intervals\n",
        "systematic_sample = population[start_point - 1::interval]\n",
        "\n",
        "print(\"Systematic Sample:\", systematic_sample)"
      ],
      "metadata": {
        "colab": {
          "base_uri": "https://localhost:8080/"
        },
        "id": "M14c2z64OfNu",
        "outputId": "2b774333-0ce9-4f63-885a-9fced3c93a5c"
      },
      "execution_count": 25,
      "outputs": [
        {
          "output_type": "stream",
          "name": "stdout",
          "text": [
            "Systematic Sample: [ 5 15 25 35 45 55 65 75 85 95]\n"
          ]
        }
      ]
    },
    {
      "cell_type": "code",
      "source": [
        "#Q.13 Calculate the mean, median, and mode of grouped data.\n",
        "\n",
        "# 1. Mean:-\n",
        "import numpy as np\n",
        "\n",
        "def mean_grouped_data(midpoints, frequencies):\n",
        "  \"\"\"Calculates the mean of grouped data.\n",
        "\n",
        "  Args:\n",
        "    midpoints: A list or NumPy array of midpoints of the data classes.\n",
        "    frequencies: A list or NumPy array of frequencies of each class.\n",
        "\n",
        "  Returns:\n",
        "    The mean of the grouped data.\n",
        "  \"\"\"\n",
        "\n",
        "  # Multiply midpoints by frequencies and sum them\n",
        "  weighted_sum = np.sum(np.multiply(midpoints, frequencies))\n",
        "\n",
        "  # Calculate the mean\n",
        "  mean = weighted_sum / np.sum(frequencies)\n",
        "\n",
        "  return mean\n",
        "\n",
        "# Example usage:\n",
        "midpoints = [15, 25, 35, 45, 55]  # Midpoints of data classes\n",
        "frequencies = [10, 20, 30, 25, 15]  # Frequencies of each class\n",
        "\n",
        "mean = mean_grouped_data(midpoints, frequencies)\n",
        "print(f\"Mean of grouped data: {mean}\")\n"
      ],
      "metadata": {
        "colab": {
          "base_uri": "https://localhost:8080/"
        },
        "id": "cykwR9YvO-gD",
        "outputId": "4847ee41-2620-4aca-cc77-a3ceec2253af"
      },
      "execution_count": 28,
      "outputs": [
        {
          "output_type": "stream",
          "name": "stdout",
          "text": [
            "Mean of grouped data: 36.5\n"
          ]
        }
      ]
    },
    {
      "cell_type": "code",
      "source": [
        "#median\n",
        "\n",
        "import numpy as np\n",
        "\n",
        "def median_grouped_data(lower_limits, frequencies, total_frequency):\n",
        "  \"\"\"Calculates the median of grouped data.\n",
        "\n",
        "  Args:\n",
        "    lower_limits: A list or NumPy array of lower limits of the data classes.\n",
        "    frequencies: A list or NumPy array of frequencies of each class.\n",
        "    total_frequency: The total number of data points.\n",
        "\n",
        "  Returns:\n",
        "    The median of the grouped data.\n",
        "  \"\"\"\n",
        "\n",
        "  # Calculate cumulative frequencies\n",
        "  cumulative_frequencies = np.cumsum(frequencies)\n",
        "\n",
        "  # Find the median class (class containing the middle value)\n",
        "  median_class_index = next(i for i, value in enumerate(cumulative_frequencies) if value >= total_frequency / 2)\n",
        "\n",
        "  # Calculate the median\n",
        "  lower_limit_median_class = lower_limits[median_class_index]\n",
        "  frequency_median_class = frequencies[median_class_index]\n",
        "  cumulative_frequency_before_median_class = cumulative_frequencies[median_class_index - 1] if median_class_index > 0 else 0\n",
        "\n",
        "  median = lower_limit_median_class + (((total_frequency / 2) - cumulative_frequency_before_median_class) / frequency_median_class)\n",
        "\n",
        "  return median\n",
        "\n",
        "# Example usage:\n",
        "lower_limits = [10, 20, 30, 40, 50]  # Lower limits of data classes\n",
        "frequencies = [10, 20, 30, 25, 15]  # Frequencies of each class\n",
        "total_frequency = np.sum(frequencies)\n",
        "\n",
        "median = median_grouped_data(lower_limits, frequencies, total_frequency)\n",
        "print(f\"Median of grouped data: {median}\")\n"
      ],
      "metadata": {
        "colab": {
          "base_uri": "https://localhost:8080/"
        },
        "id": "Mx-VX8AWQIL_",
        "outputId": "5059c193-78a3-44ac-f38a-1cab84166cf1"
      },
      "execution_count": 27,
      "outputs": [
        {
          "output_type": "stream",
          "name": "stdout",
          "text": [
            "Median of grouped data: 30.666666666666668\n"
          ]
        }
      ]
    },
    {
      "cell_type": "code",
      "source": [
        "#mode\n",
        "\n",
        "def mode_grouped_data(midpoints, frequencies):\n",
        "  \"\"\"Calculates the mode of grouped data.\n",
        "\n",
        "  Args:\n",
        "    midpoints: A list or NumPy array of midpoints of the data classes.\n",
        "    frequencies: A list or NumPy array of frequencies of each class.\n",
        "\n",
        "  Returns:\n",
        "    The mode of the grouped data.\n",
        "  \"\"\"\n",
        "\n",
        "  # Find the class with the highest frequency (modal class)\n",
        "  modal_class_index = np.argmax(frequencies)\n",
        "\n",
        "  # The mode is the midpoint of the modal class\n",
        "  mode = midpoints[modal_class_index]\n",
        "\n",
        "  return mode\n",
        "\n",
        "# Example usage:\n",
        "midpoints = [15, 25, 35, 45, 55]  # Midpoints of data classes\n",
        "frequencies = [10, 20, 30, 25, 15]  # Frequencies of each class\n",
        "\n",
        "mode = mode_grouped_data(midpoints, frequencies)\n",
        "print(f\"Mode of grouped data: {mode}\")"
      ],
      "metadata": {
        "colab": {
          "base_uri": "https://localhost:8080/"
        },
        "id": "sMdMLJn6QizC",
        "outputId": "f324b647-3ae1-429a-ec37-64be925836a1"
      },
      "execution_count": 29,
      "outputs": [
        {
          "output_type": "stream",
          "name": "stdout",
          "text": [
            "Mode of grouped data: 35\n"
          ]
        }
      ]
    },
    {
      "cell_type": "code",
      "source": [
        "#Q.14 Simulate data using Python and calculate its central tendency and dispersion.\n",
        "\n",
        "import numpy as np\n",
        "import scipy.stats as stats\n",
        "\n",
        "# Simulate random data (e.g., 1000 data points with normal distribution)\n",
        "np.random.seed(42)  # For reproducibility\n",
        "data = np.random.normal(loc=50, scale=10, size=1000)  # Mean=50, Std=10, 1000 samples\n",
        "\n",
        "# Central Tendency\n",
        "mean = np.mean(data)\n",
        "median = np.median(data)\n",
        "mode = stats.mode(data).mode # scipy.stats.mode() returns a tuple\n",
        "\n",
        "# Dispersion\n",
        "variance = np.var(data)\n",
        "std_dev = np.std(data)\n",
        "data_range = np.max(data) - np.min(data)\n",
        "\n",
        "# Output the results\n",
        "print(f\"Mean: {mean}\")\n",
        "print(f\"Median: {median}\")\n",
        "print(f\"Mode: {mode}\")\n",
        "print(f\"Variance: {variance}\")\n",
        "print(f\"Standard Deviation: {std_dev}\")\n",
        "print(f\"Range: {data_range}\")\n"
      ],
      "metadata": {
        "colab": {
          "base_uri": "https://localhost:8080/"
        },
        "id": "Ol8ZHEslQzSm",
        "outputId": "aa96aaae-948d-4d6a-d0f4-f7aab3e83db8"
      },
      "execution_count": 34,
      "outputs": [
        {
          "output_type": "stream",
          "name": "stdout",
          "text": [
            "Mean: 50.193320558223256\n",
            "Median: 50.25300612234888\n",
            "Mode: 17.58732659930927\n",
            "Variance: 95.79049897315173\n",
            "Standard Deviation: 9.787262077473542\n",
            "Range: 70.93998830723794\n"
          ]
        }
      ]
    },
    {
      "cell_type": "code",
      "source": [
        "#Q.15 Use NumPy or pandas to summarize a dataset’s descriptive statistics.\n",
        "\n",
        "#Using NumPy to Summarize Descriptive Statistics\n",
        "import numpy as np\n",
        "\n",
        "# Simulate some random data\n",
        "np.random.seed(42)\n",
        "data = np.random.normal(loc=50, scale=10, size=1000)  # Mean=50, Std=10, 1000 samples\n",
        "\n",
        "# Descriptive Statistics using NumPy\n",
        "mean = np.mean(data)\n",
        "median = np.median(data)\n",
        "std_dev = np.std(data)\n",
        "variance = np.var(data)\n",
        "min_value = np.min(data)\n",
        "max_value = np.max(data)\n",
        "data_range = max_value - min_value\n",
        "percentile_25 = np.percentile(data, 25)\n",
        "percentile_75 = np.percentile(data, 75)\n",
        "\n",
        "# Output the results\n",
        "print(\"Descriptive Statistics using NumPy:\")\n",
        "print(f\"Mean: {mean:.2f}\")\n",
        "print(f\"Median: {median:.2f}\")\n",
        "print(f\"Standard Deviation: {std_dev:.2f}\")\n",
        "print(f\"Variance: {variance:.2f}\")\n",
        "print(f\"Min: {min_value:.2f}\")\n",
        "print(f\"Max: {max_value:.2f}\")\n",
        "print(f\"Range: {data_range:.2f}\")\n",
        "print(f\"25th Percentile: {percentile_25:.2f}\")\n",
        "print(f\"75th Percentile: {percentile_75:.2f}\")\n"
      ],
      "metadata": {
        "colab": {
          "base_uri": "https://localhost:8080/"
        },
        "id": "-GErakP0RYDh",
        "outputId": "6c4c6b93-eabf-4e40-c507-a047be67bf99"
      },
      "execution_count": 35,
      "outputs": [
        {
          "output_type": "stream",
          "name": "stdout",
          "text": [
            "Descriptive Statistics using NumPy:\n",
            "Mean: 50.19\n",
            "Median: 50.25\n",
            "Standard Deviation: 9.79\n",
            "Variance: 95.79\n",
            "Min: 17.59\n",
            "Max: 88.53\n",
            "Range: 70.94\n",
            "25th Percentile: 43.52\n",
            "75th Percentile: 56.48\n"
          ]
        }
      ]
    },
    {
      "cell_type": "code",
      "source": [
        "#Q.16 Plot a boxplot to understand the spread and identify outliers.\n",
        "\n",
        "import numpy as np\n",
        "import pandas as pd\n",
        "import seaborn as sns\n",
        "import matplotlib.pyplot as plt\n",
        "\n",
        "# Simulate random data\n",
        "np.random.seed(42)\n",
        "data = np.random.normal(loc=50, scale=10, size=1000)  # Mean=50, Std=10, 1000 samples\n",
        "\n",
        "# Convert to a DataFrame for easy handling\n",
        "df = pd.DataFrame(data, columns=['Values'])\n",
        "\n",
        "# Plot a boxplot using Seaborn\n",
        "plt.figure(figsize=(8,6))\n",
        "sns.boxplot(x=df['Values'])\n",
        "\n",
        "# Customize plot\n",
        "plt.title(\"Boxplot of Simulated Data\")\n",
        "plt.xlabel(\"Values\")\n",
        "\n",
        "# Show the plot\n",
        "plt.show()\n",
        "\n"
      ],
      "metadata": {
        "colab": {
          "base_uri": "https://localhost:8080/",
          "height": 564
        },
        "id": "k8OZEAqNTVBi",
        "outputId": "fa0dd354-34ec-4816-d1d3-abcb399968ce"
      },
      "execution_count": 36,
      "outputs": [
        {
          "output_type": "display_data",
          "data": {
            "text/plain": [
              "<Figure size 800x600 with 1 Axes>"
            ],
            "image/png": "[encoded data removed]"
          },
          "metadata": {}
        }
      ]
    },
    {
      "cell_type": "code",
      "source": [
        "#Q.17 Calculate the interquartile range (IQR) of a dataset.\n",
        "\n",
        "import numpy as np\n",
        "\n",
        "# Simulate a dataset\n",
        "np.random.seed(42)\n",
        "data = np.random.normal(loc=50, scale=10, size=1000)\n",
        "\n",
        "# Calculate Q1 and Q3\n",
        "q1 = np.percentile(data, 25)\n",
        "q3 = np.percentile(data, 75)\n",
        "\n",
        "# Calculate IQR\n",
        "iqr = q3 - q1\n",
        "\n",
        "# Output the results\n",
        "print(f\"IQR (Interquartile Range): {iqr:.2f}\")\n",
        "\n"
      ],
      "metadata": {
        "colab": {
          "base_uri": "https://localhost:8080/"
        },
        "id": "L-o9jogrTgTQ",
        "outputId": "6b758dc9-2686-4551-a891-c62b53592f1b"
      },
      "execution_count": 37,
      "outputs": [
        {
          "output_type": "stream",
          "name": "stdout",
          "text": [
            "IQR (Interquartile Range): 12.96\n"
          ]
        }
      ]
    },
    {
      "cell_type": "code",
      "source": [
        "#Q.18 Implement Z-score normalization and explain its significance.\n",
        "\n",
        "import numpy as np\n",
        "\n",
        "def zscore_normalize(data):\n",
        "    \"\"\"Normalizes data using Z-score normalization.\n",
        "\n",
        "    Args:\n",
        "        data: A list or NumPy array of numerical data.\n",
        "\n",
        "    Returns:\n",
        "        A NumPy array containing the normalized data.\n",
        "    \"\"\"\n",
        "    mean = np.mean(data)\n",
        "    std_dev = np.std(data)\n",
        "    normalized_data = (data - mean) / std_dev\n",
        "    return normalized_data\n",
        "\n",
        "# Example Usage:\n",
        "data = [1, 2, 3, 4, 5]\n",
        "normalized_data = zscore_normalize(data)\n",
        "print(\"Original Data:\", data)\n",
        "print(\"Normalized Data:\", normalized_data)"
      ],
      "metadata": {
        "colab": {
          "base_uri": "https://localhost:8080/"
        },
        "id": "Rf3b4psNUItC",
        "outputId": "3391b794-51da-4e94-eec9-c73005d14990"
      },
      "execution_count": 38,
      "outputs": [
        {
          "output_type": "stream",
          "name": "stdout",
          "text": [
            "Original Data: [1, 2, 3, 4, 5]\n",
            "Normalized Data: [-1.41421356 -0.70710678  0.          0.70710678  1.41421356]\n"
          ]
        }
      ]
    },
    {
      "cell_type": "code",
      "source": [
        "#Q.19 Compare two datasets using their standard deviations.\n",
        "\n",
        "import numpy as np\n",
        "\n",
        "# Simulate two datasets\n",
        "np.random.seed(0)\n",
        "dataset1 = np.random.normal(loc=50, scale=5, size=1000)   # Low variability\n",
        "dataset2 = np.random.normal(loc=50, scale=15, size=1000)  # High variability\n",
        "\n",
        "# Calculate standard deviations\n",
        "std1 = np.std(dataset1)\n",
        "std2 = np.std(dataset2)\n",
        "\n",
        "# Output results\n",
        "print(f\"Standard Deviation of Dataset 1: {std1:.2f}\")\n",
        "print(f\"Standard Deviation of Dataset 2: {std2:.2f}\")\n",
        "\n",
        "# Interpretation\n",
        "if std1 > std2:\n",
        "    print(\"Dataset 1 has more variability.\")\n",
        "elif std2 > std1:\n",
        "    print(\"Dataset 2 has more variability.\")\n",
        "else:\n",
        "    print(\"Both datasets have equal variability.\")\n"
      ],
      "metadata": {
        "colab": {
          "base_uri": "https://localhost:8080/"
        },
        "id": "V_MZAH8GUZKF",
        "outputId": "2aa54d45-83e7-4569-8c79-a040de979b29"
      },
      "execution_count": 39,
      "outputs": [
        {
          "output_type": "stream",
          "name": "stdout",
          "text": [
            "Standard Deviation of Dataset 1: 4.94\n",
            "Standard Deviation of Dataset 2: 14.52\n",
            "Dataset 2 has more variability.\n"
          ]
        }
      ]
    },
    {
      "cell_type": "code",
      "source": [
        "# Q.20  Write a Python program to visualize covariance using a heatmap.\n",
        "\n",
        "import numpy as np\n",
        "import pandas as pd\n",
        "import seaborn as sns\n",
        "import matplotlib.pyplot as plt\n",
        "\n",
        "# Generate sample data (replace with your own data if needed)\n",
        "np.random.seed(42)  # For reproducibility\n",
        "num_samples = 100\n",
        "num_features = 5\n",
        "data = np.random.rand(num_samples, num_features)\n",
        "\n",
        "# Create a Pandas DataFrame from the data\n",
        "df = pd.DataFrame(data, columns=[f'Feature {i+1}' for i in range(num_features)])\n",
        "\n",
        "# Calculate the covariance matrix\n",
        "covariance_matrix = df.cov()\n",
        "\n",
        "# Create a heatmap of the covariance matrix\n",
        "plt.figure(figsize=(8, 6))\n",
        "sns.heatmap(covariance_matrix, annot=True, cmap='coolwarm', fmt=\".2f\", linewidths=.5)\n",
        "plt.title('Covariance Heatmap')\n",
        "plt.show()"
      ],
      "metadata": {
        "colab": {
          "base_uri": "https://localhost:8080/",
          "height": 545
        },
        "id": "2er_F5BJUlei",
        "outputId": "1b0a4236-a642-4a67-a15c-de1da98b7768"
      },
      "execution_count": 40,
      "outputs": [
        {
          "output_type": "display_data",
          "data": {
            "text/plain": [
              "<Figure size 800x600 with 2 Axes>"
            ],
            "image/png": "[encoded data removed]"
          },
          "metadata": {}
        }
      ]
    },
    {
      "cell_type": "code",
      "source": [
        "\n",
        "# Q.21  Use seaborn to create a correlation matrix for a dataset.\n",
        "import seaborn as sns\n",
        "import pandas as pd\n",
        "import numpy as np\n",
        "import matplotlib.pyplot as plt\n",
        "\n",
        "# Simulate a dataset with multiple features\n",
        "np.random.seed(42)\n",
        "data = {\n",
        "    'Feature1': np.random.normal(50, 10, 100),\n",
        "    'Feature2': np.random.normal(30, 5, 100),\n",
        "    'Feature3': np.random.normal(100, 20, 100),\n",
        "    'Feature4': np.random.normal(75, 15, 100)\n",
        "}\n",
        "\n",
        "# Create a DataFrame\n",
        "df = pd.DataFrame(data)\n",
        "\n",
        "# Compute the correlation matrix\n",
        "correlation_matrix = df.corr()\n",
        "\n",
        "# Plot the heatmap using seaborn\n",
        "plt.figure(figsize=(8,6))\n",
        "sns.heatmap(correlation_matrix, annot=True, cmap='coolwarm', fmt=\".2f\", linewidths=0.5)\n",
        "plt.title('Correlation Matrix Heatmap')\n",
        "plt.show()\n"
      ],
      "metadata": {
        "colab": {
          "base_uri": "https://localhost:8080/",
          "height": 545
        },
        "id": "F4e9jVFxUp5A",
        "outputId": "f4e60e3a-8069-4e1d-ea09-38d1fcb25bd8"
      },
      "execution_count": 42,
      "outputs": [
        {
          "output_type": "display_data",
          "data": {
            "text/plain": [
              "<Figure size 800x600 with 2 Axes>"
            ],
            "image/png": "[encoded data removed]"
          },
          "metadata": {}
        }
      ]
    },
    {
      "cell_type": "code",
      "source": [
        "# Q.22  Generate a dataset and implement both variance and standard deviation computations.\n",
        "\n",
        "import numpy as np\n",
        "\n",
        "# 1. Generate a dataset:\n",
        "# You can use NumPy's random functions to create a dataset.\n",
        "# Here, we'll create a dataset of 100 random numbers between 1 and 50:\n",
        "data = np.random.randint(1, 51, size=100)\n",
        "\n",
        "# 2. Calculate variance:\n",
        "# Use NumPy's `var()` function to calculate the variance:\n",
        "variance = np.var(data)\n",
        "print(f\"Variance: {variance}\")\n",
        "\n",
        "# You can also calculate variance manually using the formula:\n",
        "# variance = np.sum((data - np.mean(data))**2) / (len(data) - 1)  # For sample variance\n",
        "\n",
        "# 3. Calculate standard deviation:\n",
        "# Use NumPy's `std()` function to calculate the standard deviation:\n",
        "std_dev = np.std(data)\n",
        "print(f\"Standard Deviation: {std_dev}\")\n",
        "\n",
        "# You can also calculate standard deviation manually:\n",
        "# std_dev = np.sqrt(variance)"
      ],
      "metadata": {
        "colab": {
          "base_uri": "https://localhost:8080/"
        },
        "id": "RL4QATKxUss8",
        "outputId": "48d1c8cf-4d6b-490f-a958-2a5142242d33"
      },
      "execution_count": 43,
      "outputs": [
        {
          "output_type": "stream",
          "name": "stdout",
          "text": [
            "Variance: 213.12590000000003\n",
            "Standard Deviation: 14.598832145072429\n"
          ]
        }
      ]
    },
    {
      "cell_type": "code",
      "source": [
        "# Q.23  Visualize skewness and kurtosis using Python libraries like matplotlib or seaborn.\n",
        "\n",
        "import numpy as np\n",
        "import matplotlib.pyplot as plt\n",
        "import seaborn as sns\n",
        "\n",
        "# 1. Create datasets:\n",
        "data_skewed = np.random.gamma(2, 2, 1000)  # Gamma distribution for skewness\n",
        "data_kurtosis = np.random.laplace(loc=0, scale=1, size=1000)  # Laplace distribution for kurtosis\n",
        "\n",
        "# 2. Create subplots:\n",
        "fig, axes = plt.subplots(1, 2, figsize=(12, 6))\n",
        "\n",
        "# 3. Visualize skewness:\n",
        "sns.histplot(data_skewed, bins=30, kde=True, ax=axes[0])\n",
        "axes[0].set_title('Histogram with Skewness')\n",
        "axes[0].set_xlabel('Value')\n",
        "axes[0].set_ylabel('Frequency')\n",
        "\n",
        "# 4. Visualize kurtosis:\n",
        "sns.histplot(data_kurtosis, bins=30, kde=True, ax=axes[1])\n",
        "axes[1].set_title('Histogram with Kurtosis')\n",
        "axes[1].set_xlabel('Value')\n",
        "axes[1].set_ylabel('Frequency')\n",
        "\n",
        "plt.tight_layout()\n",
        "plt.show()"
      ],
      "metadata": {
        "colab": {
          "base_uri": "https://localhost:8080/",
          "height": 607
        },
        "id": "Wneipo6CVDYy",
        "outputId": "20342459-b57d-420d-d6ca-450a4bb680bb"
      },
      "execution_count": 44,
      "outputs": [
        {
          "output_type": "display_data",
          "data": {
            "text/plain": [
              "<Figure size 1200x600 with 2 Axes>"
            ],
            "image/png": "[encoded data removed]"
          },
          "metadata": {}
        }
      ]
    },
    {
      "cell_type": "code",
      "source": [
        "#Q.24  Implement the Pearson and Spearman correlation coefficients for a dataset.import numpy as np\n",
        "from scipy.stats import pearsonr, spearmanr\n",
        "\n",
        "def calculate_correlations(dataset1, dataset2):\n",
        "    \"\"\"Calculates Pearson and Spearman correlation coefficients between two datasets.\n",
        "\n",
        "    Args:\n",
        "        dataset1: The first dataset (a list or NumPy array).\n",
        "        dataset2: The second dataset (a list or NumPy array).\n",
        "\n",
        "    Returns:\n",
        "        A tuple containing the Pearson correlation coefficient and the Spearman correlation coefficient.\n",
        "    \"\"\"\n",
        "\n",
        "    # Calculate Pearson correlation coefficient\n",
        "    pearson_corr, _ = pearsonr(dataset1, dataset2)\n",
        "\n",
        "    # Calculate Spearman correlation coefficient\n",
        "    spearman_corr, _ = spearmanr(dataset1, dataset2)\n",
        "\n",
        "    return pearson_corr, spearman_corr\n",
        "\n",
        "# Example usage:\n",
        "dataset1 = [1, 2, 3, 4, 5]\n",
        "dataset2 = [5, 4, 3, 2, 1]\n",
        "\n",
        "pearson_corr, spearman_corr = calculate_correlations(dataset1, dataset2)\n",
        "\n",
        "print(f\"Pearson correlation coefficient: {pearson_corr}\")\n",
        "print(f\"Spearman correlation coefficient: {spearman_corr}\")"
      ],
      "metadata": {
        "colab": {
          "base_uri": "https://localhost:8080/"
        },
        "id": "WXXqQkvBVG2R",
        "outputId": "19631abc-fc9e-46fa-9a9e-58668634001f"
      },
      "execution_count": 45,
      "outputs": [
        {
          "output_type": "stream",
          "name": "stdout",
          "text": [
            "Pearson correlation coefficient: -1.0\n",
            "Spearman correlation coefficient: -0.9999999999999999\n"
          ]
        }
      ]
    },
    {
      "cell_type": "code",
      "source": [],
      "metadata": {
        "id": "0AUI60KHVKNP"
      },
      "execution_count": null,
      "outputs": []
    }
  ]
}